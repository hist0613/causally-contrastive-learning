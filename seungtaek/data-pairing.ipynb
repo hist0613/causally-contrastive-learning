{
 "cells": [
  {
   "cell_type": "code",
   "execution_count": 1,
   "metadata": {
    "scrolled": false
   },
   "outputs": [
    {
     "name": "stdout",
     "output_type": "stream",
     "text": [
      "sentiment/orig/train.tsv: 1708\n",
      "sentiment/orig/dev.tsv: 246\n",
      "sentiment/orig/test.tsv: 489\n",
      "\n",
      "sentiment/new/train.tsv: 1708\n",
      "sentiment/new/dev.tsv: 246\n",
      "sentiment/new/test.tsv: 489\n",
      "\n",
      "sentiment/combined/train.tsv: 3415\n",
      "sentiment/combined/dev.tsv: 491\n",
      "sentiment/combined/test.tsv: 977\n",
      "\n"
     ]
    }
   ],
   "source": [
    "import os\n",
    "data_dir = \"sentiment\"\n",
    "for data_ver in [\"orig\", \"new\", \"combined\"]:\n",
    "    for data_split in [\"train\", \"dev\", \"test\"]:\n",
    "        data_path = os.path.join(data_dir, data_ver, data_split + '.tsv')\n",
    "        with open(data_path, 'r') as fp:\n",
    "            data = fp.readlines()\n",
    "        \n",
    "        print(\"{}: {}\".format(data_path, len(data)))\n",
    "    print()"
   ]
  },
  {
   "cell_type": "code",
   "execution_count": 2,
   "metadata": {
    "scrolled": false
   },
   "outputs": [],
   "source": [
    "orig_train = open(\"./sentiment/orig/train.tsv\", 'r').readlines()[1:]\n",
    "orig_dev = open(\"./sentiment/orig/dev.tsv\", 'r').readlines()[1:]\n",
    "orig_test = open(\"./sentiment/orig/test.tsv\", 'r').readlines()[1:]\n",
    "\n",
    "new_train = open(\"./sentiment/new/train.tsv\", 'r').readlines()[1:]\n",
    "new_dev = open(\"./sentiment/new/dev.tsv\", 'r').readlines()[1:]\n",
    "new_test = open(\"./sentiment/new/test.tsv\", 'r').readlines()[1:]"
   ]
  },
  {
   "cell_type": "code",
   "execution_count": 3,
   "metadata": {
    "scrolled": false
   },
   "outputs": [
    {
     "data": {
      "application/vnd.jupyter.widget-view+json": {
       "model_id": "0ea90d9644c44429858fcabee0a9ee9a",
       "version_major": 2,
       "version_minor": 0
      },
      "text/plain": [
       "HBox(children=(IntProgress(value=0, max=1707), HTML(value='')))"
      ]
     },
     "metadata": {},
     "output_type": "display_data"
    },
    {
     "name": "stdout",
     "output_type": "stream",
     "text": [
      "\n"
     ]
    },
    {
     "data": {
      "application/vnd.jupyter.widget-view+json": {
       "model_id": "4a1539ffee40426b960b78aa185373a1",
       "version_major": 2,
       "version_minor": 0
      },
      "text/plain": [
       "HBox(children=(IntProgress(value=0, max=245), HTML(value='')))"
      ]
     },
     "metadata": {},
     "output_type": "display_data"
    },
    {
     "name": "stdout",
     "output_type": "stream",
     "text": [
      "\n"
     ]
    },
    {
     "data": {
      "application/vnd.jupyter.widget-view+json": {
       "model_id": "6a46522e4f64402bb4b1e9f4adabac83",
       "version_major": 2,
       "version_minor": 0
      },
      "text/plain": [
       "HBox(children=(IntProgress(value=0, max=488), HTML(value='')))"
      ]
     },
     "metadata": {},
     "output_type": "display_data"
    },
    {
     "name": "stdout",
     "output_type": "stream",
     "text": [
      "\n"
     ]
    }
   ],
   "source": [
    "from tqdm.notebook import tqdm\n",
    "\n",
    "def get_sim(str1, str2): \n",
    "    a = set(str1.split()) \n",
    "    b = set(str2.split())\n",
    "    c = a.intersection(b)\n",
    "    return float(len(c)) / (len(a) + len(b) - len(c))\n",
    "\n",
    "def pairing(orig_samples, new_samples):\n",
    "    paired_samples = []\n",
    "    for orig_sample in tqdm(orig_samples):\n",
    "        orig_sample = orig_sample.split('\\t')\n",
    "        cf_sample = ['negative', \"\"]\n",
    "        for new_sample in new_samples[0:]:\n",
    "            new_sample = new_sample.split('\\t')\n",
    "            if abs(len(orig_sample[1].split()) - len(new_sample[1].split())) <= 10 and \\\n",
    "                get_sim(orig_sample[1], new_sample[1]) > get_sim(orig_sample[1], cf_sample[1]):\n",
    "                cf_sample = new_sample\n",
    "        paired_samples.append((orig_sample, cf_sample))\n",
    "    return paired_samples\n",
    "\n",
    "paired_train = pairing(orig_train, new_train)\n",
    "paired_dev = pairing(orig_dev, new_dev)\n",
    "paired_test = pairing(orig_test, new_test)"
   ]
  },
  {
   "cell_type": "code",
   "execution_count": 4,
   "metadata": {},
   "outputs": [],
   "source": [
    "import pickle\n",
    "\n",
    "with open(\"paired_train.pickle\", \"wb\") as fp:\n",
    "    pickle.dump(paired_train, fp)\n",
    "    \n",
    "with open(\"paired_dev.pickle\", \"wb\") as fp:\n",
    "    pickle.dump(paired_dev, fp)\n",
    "    \n",
    "with open(\"paired_test.pickle\", \"wb\") as fp:\n",
    "    pickle.dump(paired_test, fp)"
   ]
  },
  {
   "cell_type": "code",
   "execution_count": 5,
   "metadata": {},
   "outputs": [],
   "source": [
    "from nltk.tokenize import word_tokenize"
   ]
  },
  {
   "cell_type": "code",
   "execution_count": 6,
   "metadata": {
    "scrolled": false
   },
   "outputs": [
    {
     "data": {
      "application/vnd.jupyter.widget-view+json": {
       "model_id": "9f3adf87690d413c995a7394fa758d87",
       "version_major": 2,
       "version_minor": 0
      },
      "text/plain": [
       "HBox(children=(IntProgress(value=0, max=1707), HTML(value='')))"
      ]
     },
     "metadata": {},
     "output_type": "display_data"
    },
    {
     "name": "stdout",
     "output_type": "stream",
     "text": [
      "\n"
     ]
    },
    {
     "data": {
      "application/vnd.jupyter.widget-view+json": {
       "model_id": "3dc3ac43dc114d35a74aa50cedb2fede",
       "version_major": 2,
       "version_minor": 0
      },
      "text/plain": [
       "HBox(children=(IntProgress(value=0, max=1707), HTML(value='')))"
      ]
     },
     "metadata": {},
     "output_type": "display_data"
    },
    {
     "name": "stdout",
     "output_type": "stream",
     "text": [
      "\n"
     ]
    },
    {
     "data": {
      "application/vnd.jupyter.widget-view+json": {
       "model_id": "4e5499c859a0471286c26f1fabdaaa47",
       "version_major": 2,
       "version_minor": 0
      },
      "text/plain": [
       "HBox(children=(IntProgress(value=0, max=1707), HTML(value='')))"
      ]
     },
     "metadata": {},
     "output_type": "display_data"
    },
    {
     "name": "stdout",
     "output_type": "stream",
     "text": [
      "\n"
     ]
    },
    {
     "data": {
      "application/vnd.jupyter.widget-view+json": {
       "model_id": "b558113239c2429da0f76cfa68bcab34",
       "version_major": 2,
       "version_minor": 0
      },
      "text/plain": [
       "HBox(children=(IntProgress(value=0, max=1707), HTML(value='')))"
      ]
     },
     "metadata": {},
     "output_type": "display_data"
    },
    {
     "name": "stdout",
     "output_type": "stream",
     "text": [
      "\n"
     ]
    },
    {
     "data": {
      "application/vnd.jupyter.widget-view+json": {
       "model_id": "436d8d98b9b8418b820b00b2aab69409",
       "version_major": 2,
       "version_minor": 0
      },
      "text/plain": [
       "HBox(children=(IntProgress(value=0, max=1707), HTML(value='')))"
      ]
     },
     "metadata": {},
     "output_type": "display_data"
    },
    {
     "name": "stdout",
     "output_type": "stream",
     "text": [
      "\n"
     ]
    },
    {
     "data": {
      "application/vnd.jupyter.widget-view+json": {
       "model_id": "a8fe91e296c34b43b924c7dda563849c",
       "version_major": 2,
       "version_minor": 0
      },
      "text/plain": [
       "HBox(children=(IntProgress(value=0, max=1707), HTML(value='')))"
      ]
     },
     "metadata": {},
     "output_type": "display_data"
    },
    {
     "name": "stdout",
     "output_type": "stream",
     "text": [
      "\n"
     ]
    },
    {
     "data": {
      "application/vnd.jupyter.widget-view+json": {
       "model_id": "762652d354054691801d2a74f1ad1894",
       "version_major": 2,
       "version_minor": 0
      },
      "text/plain": [
       "HBox(children=(IntProgress(value=0, max=1707), HTML(value='')))"
      ]
     },
     "metadata": {},
     "output_type": "display_data"
    },
    {
     "name": "stdout",
     "output_type": "stream",
     "text": [
      "\n"
     ]
    },
    {
     "data": {
      "application/vnd.jupyter.widget-view+json": {
       "model_id": "1b6ca8e70f694a05970e132a265c9ab6",
       "version_major": 2,
       "version_minor": 0
      },
      "text/plain": [
       "HBox(children=(IntProgress(value=0, max=1707), HTML(value='')))"
      ]
     },
     "metadata": {},
     "output_type": "display_data"
    },
    {
     "name": "stdout",
     "output_type": "stream",
     "text": [
      "\n"
     ]
    },
    {
     "data": {
      "application/vnd.jupyter.widget-view+json": {
       "model_id": "43d126b30ef4401581dda7c914c4416b",
       "version_major": 2,
       "version_minor": 0
      },
      "text/plain": [
       "HBox(children=(IntProgress(value=0, max=1707), HTML(value='')))"
      ]
     },
     "metadata": {},
     "output_type": "display_data"
    },
    {
     "name": "stdout",
     "output_type": "stream",
     "text": [
      "\n"
     ]
    },
    {
     "data": {
      "application/vnd.jupyter.widget-view+json": {
       "model_id": "b8e4c09ed1b94567b311cb682d684d98",
       "version_major": 2,
       "version_minor": 0
      },
      "text/plain": [
       "HBox(children=(IntProgress(value=0, max=1707), HTML(value='')))"
      ]
     },
     "metadata": {},
     "output_type": "display_data"
    },
    {
     "name": "stdout",
     "output_type": "stream",
     "text": [
      "\n"
     ]
    },
    {
     "data": {
      "application/vnd.jupyter.widget-view+json": {
       "model_id": "7ee7d2234d7c44c8b628435135bc046b",
       "version_major": 2,
       "version_minor": 0
      },
      "text/plain": [
       "HBox(children=(IntProgress(value=0, max=1707), HTML(value='')))"
      ]
     },
     "metadata": {},
     "output_type": "display_data"
    },
    {
     "name": "stdout",
     "output_type": "stream",
     "text": [
      "\n"
     ]
    },
    {
     "data": {
      "application/vnd.jupyter.widget-view+json": {
       "model_id": "4d6c6677acd54397a1b1d3a24263f8fe",
       "version_major": 2,
       "version_minor": 0
      },
      "text/plain": [
       "HBox(children=(IntProgress(value=0, max=1707), HTML(value='')))"
      ]
     },
     "metadata": {},
     "output_type": "display_data"
    },
    {
     "name": "stdout",
     "output_type": "stream",
     "text": [
      "\n"
     ]
    }
   ],
   "source": [
    "import random\n",
    "import numpy as np\n",
    "import seaborn as sn\n",
    "import matplotlib.pyplot as plt\n",
    "        \n",
    "def visualize(words, masks):\n",
    "    fig, ax = plt.subplots(figsize=(len(words), 1))\n",
    "    plt.rc('xtick', labelsize=16)\n",
    "    heatmap = sn.heatmap([masks], xticklabels=words, yticklabels=False, square=True, \\\n",
    "                         linewidths=0.1, cmap='coolwarm', center=0.5, vmin=0, vmax=1)\n",
    "    plt.xticks(rotation=45)\n",
    "    plt.show()\n",
    "\n",
    "def mask_causal_words(orig_tokens, cf_tokens):\n",
    "    orig_causal_mask = [0 for _ in range(len(orig_tokens))]\n",
    "    for orig_idx in range(len(orig_tokens)):\n",
    "        is_causal = 1\n",
    "        for cf_idx in range(len(cf_tokens)):\n",
    "            if orig_tokens[orig_idx] == cf_tokens[cf_idx]:\n",
    "                is_causal = 0\n",
    "                break\n",
    "\n",
    "        if is_causal:\n",
    "            orig_causal_mask[orig_idx] = 1\n",
    "    \n",
    "    return orig_causal_mask\n",
    "    \n",
    "def build_causal_mask(paired, sampling_ratio, augment_ratio):\n",
    "    triplets = []\n",
    "    for orig_sample, cf_sample in tqdm(paired):\n",
    "        orig_tokens = word_tokenize(orig_sample[1])\n",
    "        cf_tokens = word_tokenize(cf_sample[1])\n",
    "    \n",
    "        orig_causal_mask = mask_causal_words(orig_tokens, cf_tokens)\n",
    "        # visualize(orig_tokens, orig_causal_mask)\n",
    "        # cf_causal_mask = mask_causal_words(cf_tokens, orig_tokens)\n",
    "        # visualize(cf_tokens, cf_causal_mask)\n",
    "\n",
    "        if 1 not in orig_causal_mask:\n",
    "            # print(orig_sample[1], cf_sample[1])\n",
    "            continue\n",
    "        \n",
    "        for _ in range(augment_ratio):\n",
    "            # 모든 causal 단어를 mask, 모든 non-causal 단어를 mask\n",
    "            if sampling_ratio is None:\n",
    "                causal_masked_tokens = [orig_tokens[i] if orig_causal_mask[i] == 0 else \"[MASK]\" for i in range(len(orig_tokens))]\n",
    "                noncausal_masked_tokens = [orig_tokens[i] if orig_causal_mask[i] == 1 else \"[MASK]\" for i in range(len(orig_tokens))]\n",
    "\n",
    "            # sampling_ratio 갯수 (int) 만큼의 단어를 mask\n",
    "            elif type(sampling_ratio) == int:\n",
    "                causal_indices = np.where(np.array(orig_causal_mask) == 1)[0]\n",
    "                noncausal_indices = np.where(np.array(orig_causal_mask) == 0)[0]\n",
    "\n",
    "                # print(causal_indices)\n",
    "\n",
    "                causal_mask_indices = np.random.choice(causal_indices, sampling_ratio)                    \n",
    "                noncausal_mask_indices = np.random.choice(noncausal_indices, sampling_ratio)\n",
    "\n",
    "                causal_masked_tokens = [orig_tokens[i] if i not in causal_mask_indices else \"[MASK]\" for i in range(len(orig_tokens))]\n",
    "                noncausal_masked_tokens = [orig_tokens[i] if i not in noncausal_mask_indices else \"[MASK]\" for i in range(len(orig_tokens))]\n",
    "            \n",
    "            # sampling_ratio 비율 (%) 만큼의 단어를 mask\n",
    "            else:\n",
    "                pass\n",
    "                \n",
    "            causal_masked_sample = \" \".join(causal_masked_tokens)\n",
    "            noncausal_masked_sample = \" \".join(noncausal_masked_tokens)\n",
    "\n",
    "            triplets.append((orig_sample[0], orig_sample[1], causal_masked_sample, noncausal_masked_sample))\n",
    "        \n",
    "    return triplets\n",
    "\n",
    "import pickle\n",
    "\n",
    "# sampling_ratio = 2\n",
    "# augment_ratio = 1\n",
    "for sampling_ratio in [2, 3, 4, 5]:\n",
    "    for augment_ratio in [1, 2, 3]:\n",
    "        triplets_train = build_causal_mask(paired_train, sampling_ratio=sampling_ratio, augment_ratio=augment_ratio)\n",
    "        with open(\"triplets_sampling{}_augmenting{}_train.pickle\".format(sampling_ratio, augment_ratio), \"wb\") as fp:\n",
    "            pickle.dump(triplets_train, fp)\n",
    "        \n",
    "# triplets_dev = build_causal_mask(paired_dev, sampling_ratio=sampling_ratio, augment_ratio=augment_ratio)\n",
    "# triplets_test = build_causal_mask(paired_test, sampling_ratio=sampling_ratio, augment_ratio=augment_ratio)"
   ]
  },
  {
   "cell_type": "code",
   "execution_count": 7,
   "metadata": {},
   "outputs": [],
   "source": [
    "\n",
    "    \n",
    "# with open(\"triplets_sampling{}_augmenting{}_dev.pickle\".format(sampling_ratio, augment_ratio), \"wb\") as fp:\n",
    "#     pickle.dump(triplets_dev, fp)\n",
    "    \n",
    "# with open(\"triplets_sampling{}_augmenting{}_test.pickle\".format(sampling_ratio, augment_ratio), \"wb\") as fp:\n",
    "#     pickle.dump(triplets_test, fp)"
   ]
  }
 ],
 "metadata": {
  "kernelspec": {
   "display_name": "Python 3",
   "language": "python",
   "name": "python3"
  },
  "language_info": {
   "codemirror_mode": {
    "name": "ipython",
    "version": 3
   },
   "file_extension": ".py",
   "mimetype": "text/x-python",
   "name": "python",
   "nbconvert_exporter": "python",
   "pygments_lexer": "ipython3",
   "version": "3.7.4"
  }
 },
 "nbformat": 4,
 "nbformat_minor": 4
}
