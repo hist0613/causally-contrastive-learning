{
 "cells": [
  {
   "cell_type": "code",
   "execution_count": 1,
   "id": "804a4271",
   "metadata": {},
   "outputs": [],
   "source": [
    "import os\n",
    "import json\n",
    "import torch\n",
    "from tqdm import tqdm\n",
    "from torch.utils.data import DataLoader\n",
    "from transformers import BertTokenizer, BertModel\n",
    "\n",
    "\n",
    "class IMDbDataset(torch.utils.data.Dataset):\n",
    "    def __init__(self, encodings):\n",
    "        self.encodings = encodings\n",
    "\n",
    "    def __getitem__(self, idx):\n",
    "        item = {key: torch.tensor(val[idx]) for key, val in self.encodings.items()}\n",
    "        return item\n",
    "\n",
    "    def __len__(self):\n",
    "        return len(self.encodings['input_ids'])\n",
    "\n",
    "from numpy import dot\n",
    "from numpy.linalg import norm\n",
    "import numpy as np\n",
    "def cos_sim(A, B):\n",
    "       return dot(A, B)/(norm(A)*norm(B))"
   ]
  },
  {
   "cell_type": "code",
   "execution_count": 2,
   "id": "ed5fd420",
   "metadata": {},
   "outputs": [
    {
     "name": "stderr",
     "output_type": "stream",
     "text": [
      "100%|██████████| 5625/5625 [02:25<00:00, 38.77it/s]\n"
     ]
    }
   ],
   "source": [
    "DATASET_PATH = \"../dataset/IMDb/triplet_automated_averaged_gradient_1word_augmented_1x_aclImdb/\"\n",
    "OUTPUT_PATH  = \"../dataset/IMDb/triplet_automated_averaged_gradient_wanglike_1word_augmented_1x_aclImdb/\"\n",
    "BATCH_SIZE = 4\n",
    "\n",
    "device = torch.device('cuda') if torch.cuda.is_available() else torch.device('cpu')\n",
    "tokenizer = BertTokenizer.from_pretrained('bert-base-uncased')\n",
    "model = BertModel.from_pretrained(\"bert-base-uncased\")\n",
    "model.to(device)\n",
    "model.eval()\n",
    "\n",
    "with open(os.path.join(DATASET_PATH, \"train.json\")) as f:\n",
    "    data = json.load(f)\n",
    "\n",
    "causal_sentences = [d['negative_text'] for d in data]\n",
    "causal_encodings = tokenizer(causal_sentences, truncation=True, padding=True)\n",
    "\n",
    "causal_dataset = IMDbDataset(causal_encodings)\n",
    "causal_loader = DataLoader(causal_dataset, batch_size=BATCH_SIZE, shuffle=False)\n",
    "\n",
    "causal_reps = []\n",
    "for batch in tqdm(causal_loader):\n",
    "    input_ids = batch['input_ids'].to(device)\n",
    "    attention_mask = batch['attention_mask'].to(device)\n",
    "    with torch.no_grad():\n",
    "        logits = model(input_ids, attention_mask)[1]\n",
    "        causal_reps.append(logits.detach().cpu())\n",
    "\n",
    "causal_reps = torch.cat(causal_reps)\n",
    "causal_reps = causal_reps.detach().cpu().numpy()"
   ]
  },
  {
   "cell_type": "code",
   "execution_count": 8,
   "id": "5499b6f7",
   "metadata": {},
   "outputs": [],
   "source": [
    "positive_reps = []\n",
    "negative_reps = []"
   ]
  },
  {
   "cell_type": "code",
   "execution_count": 9,
   "id": "9bcba877",
   "metadata": {},
   "outputs": [],
   "source": [
    "for rep, d in zip(causal_reps, data):\n",
    "    if d['label'] == [1.0, 0.0]:\n",
    "        negative_reps.append((d['id'], rep))\n",
    "    else:\n",
    "        positive_reps.append((d['id'], rep))\n"
   ]
  },
  {
   "cell_type": "code",
   "execution_count": 15,
   "id": "3a77c856",
   "metadata": {},
   "outputs": [
    {
     "name": "stderr",
     "output_type": "stream",
     "text": [
      "22500it [00:10, 2063.01it/s]\n"
     ]
    }
   ],
   "source": [
    "for rep, d in tqdm(zip(causal_reps, data)):\n",
    "    d['triplet_sample_mask'] = False\n",
    "\n",
    "    if d['label'] == [1.0, 0.0]:\n",
    "        for pr in positive_reps:\n",
    "            if d['id'] == pr[0]:\n",
    "                continue\n",
    "            if cos_sim(rep, pr[1]) > 0.95:\n",
    "                d['triplet_sample_mask'] = True\n",
    "                break\n",
    "\n",
    "    else:\n",
    "        for nr in negative_reps:\n",
    "            if d['id'] == nr[0]:\n",
    "                continue\n",
    "            if cos_sim(rep, nr[1]) > 0.95:\n",
    "                d['triplet_sample_mask'] = True\n",
    "                break\n",
    "    "
   ]
  },
  {
   "cell_type": "code",
   "execution_count": 16,
   "id": "883d74f4",
   "metadata": {},
   "outputs": [
    {
     "name": "stdout",
     "output_type": "stream",
     "text": [
      "0.9987555555555555\n"
     ]
    }
   ],
   "source": [
    "import shutil\n",
    "os.makedirs(OUTPUT_PATH)\n",
    "with open(os.path.join(OUTPUT_PATH, \"train.json\"), 'w') as f:\n",
    "    json.dump(data, f)\n",
    "shutil.copy(os.path.join(DATASET_PATH, \"valid.json\"), os.path.join(OUTPUT_PATH, \"valid.json\"))\n",
    "shutil.copy(os.path.join(DATASET_PATH, \"test.json\"), os.path.join(OUTPUT_PATH, \"test.json\"))\n",
    "print(sum([d['triplet_sample_mask'] for d in data])/len(data))"
   ]
  },
  {
   "cell_type": "code",
   "execution_count": 17,
   "id": "dedfc7d2",
   "metadata": {},
   "outputs": [
    {
     "name": "stdout",
     "output_type": "stream",
     "text": [
      "22472\n"
     ]
    }
   ],
   "source": [
    "print(sum([d['triplet_sample_mask'] for d in data]))"
   ]
  },
  {
   "cell_type": "code",
   "execution_count": 12,
   "id": "0792a073",
   "metadata": {},
   "outputs": [
    {
     "data": {
      "text/plain": [
       "{'id': 9516,\n",
       " 'anchor_text': 'excellent show. instead of watching the same old sitcom type shows where it\\'s the same old thing, just different \" stars \", this refreshing show provided an incredibly entertaining view of office situations. we have been away from watching any television for 2 years and after coming back, of all the shows available we look forward to watching this show on w. shame on global for pulling the plug on this one. i thought this one would be a winner. let\\'s be realistic about things, few canadian shows make it. everyone i talk to enjoys this show and i believe it was foolish of global to walk away. i guess they want to stick it out with the typical mind numbing shows from the states instead of pulling behind a canadian made show that had a lot of promise. don\\'t get me wrong, i enjoy a lot of shows on tv, but, come on people, let\\'s keep the variety. this unique show provided a very comedic view of a slightly exaggerated realistic side of office life and relationships, with unique characters that you don\\'t see on any sitcoms today or in the past. too bad that global had to say no to this one, foolish mistake.',\n",
       " 'positive_text': 'excellent show. instead of watching the same old sitcom type shows where it\\'s the same old thing, just different \" stars \", this refreshing show provided an incredibly entertaining view of office situations. we have been away from watching any television for 2 years and after coming back, of all the shows available we look forward to watching this show on w. shame on global for pulling the plug on this one. i thought this one would be a winner. let\\'s be realistic about things, few canadian shows make it. everyone i talk to enjoys this show and i believe it was foolish of global to walk away. i guess they want to stick it out with the typical mind numbing shows from the states instead of pulling behind a canadian made show that had a lot of promise. don\\'t get me wrong, i enjoy a lot of shows on tv, but, come on people, let\\'s keep the variety. this unique show provided a very comedic view of a slightly exaggerated realistic side of office life and relationships, with unique characters that you [MASK]\\'t see on any sitcoms today or in the past. too bad that global had to say no to this one, foolish mistake.',\n",
       " 'negative_text': 'excellent show. instead of watching the same old sitcom type shows where it\\'s the same old thing, just different \" stars \", this refreshing show [MASK] an incredibly entertaining view of office situations. we have been away from watching any television for 2 years and after coming back, of all the shows available we look forward to watching this show on w. shame on global for pulling the plug on this one. i thought this one would be a winner. let\\'s be realistic about things, few canadian shows make it. everyone i talk to enjoys this show and i believe it was foolish of global to walk away. i guess they want to stick it out with the typical mind numbing shows from the states instead of pulling behind a canadian made show that had a lot of promise. don\\'t get me wrong, i enjoy a lot of shows on tv, but, come on people, let\\'s keep the variety. this unique show provided a very comedic view of a slightly exaggerated realistic side of office life and relationships, with unique characters that you don\\'t see on any sitcoms today or in the past. too bad that global had to say no to this one, foolish mistake.',\n",
       " 'label': [0.0, 1.0]}"
      ]
     },
     "execution_count": 12,
     "metadata": {},
     "output_type": "execute_result"
    }
   ],
   "source": [
    "data[1]"
   ]
  },
  {
   "cell_type": "code",
   "execution_count": null,
   "id": "e1cbdd1c",
   "metadata": {},
   "outputs": [],
   "source": []
  }
 ],
 "metadata": {
  "kernelspec": {
   "display_name": "Python 3",
   "language": "python",
   "name": "python3"
  },
  "language_info": {
   "codemirror_mode": {
    "name": "ipython",
    "version": 3
   },
   "file_extension": ".py",
   "mimetype": "text/x-python",
   "name": "python",
   "nbconvert_exporter": "python",
   "pygments_lexer": "ipython3",
   "version": "3.6.9"
  }
 },
 "nbformat": 4,
 "nbformat_minor": 5
}
