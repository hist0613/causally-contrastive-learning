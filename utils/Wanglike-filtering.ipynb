{
 "cells": [
  {
   "cell_type": "code",
   "execution_count": 1,
   "id": "804a4271",
   "metadata": {},
   "outputs": [],
   "source": [
    "import os\n",
    "import json\n",
    "import torch\n",
    "from tqdm import tqdm\n",
    "from torch.utils.data import DataLoader\n",
    "from transformers import BertTokenizer, BertModel\n",
    "\n",
    "\n",
    "class IMDbDataset(torch.utils.data.Dataset):\n",
    "    def __init__(self, encodings):\n",
    "        self.encodings = encodings\n",
    "\n",
    "    def __getitem__(self, idx):\n",
    "        item = {key: torch.tensor(val[idx]) for key, val in self.encodings.items()}\n",
    "        return item\n",
    "\n",
    "    def __len__(self):\n",
    "        return len(self.encodings['input_ids'])\n",
    "\n",
    "from numpy import dot\n",
    "from numpy.linalg import norm\n",
    "import numpy as np\n",
    "def cos_sim(A, B):\n",
    "       return dot(A, B)/(norm(A)*norm(B))\n",
    "def l2distance(A, B):\n",
    "       return norm(A-B)"
   ]
  },
  {
   "cell_type": "code",
   "execution_count": 2,
   "id": "ed5fd420",
   "metadata": {},
   "outputs": [],
   "source": [
    "DATASET_PATH = \"../dataset/CFNLI/triplets_automated_averaged_gradient_1word_augmented_1x_cfnli/\"\n",
    "OUTPUT_PATH  = \"../dataset/CFNLI/triplets_automated_averaged_gradient_wanglike_1word_augmented_1x_cfnli/\"\n",
    "\n",
    "BATCH_SIZE = 4\n",
    "\n",
    "device = torch.device('cuda') if torch.cuda.is_available() else torch.device('cpu')\n",
    "tokenizer = BertTokenizer.from_pretrained('bert-base-uncased')\n",
    "model = BertModel.from_pretrained(\"bert-base-uncased\")\n",
    "model.to(device)\n",
    "model.eval()\n",
    "\n",
    "with open(os.path.join(DATASET_PATH, \"train.json\")) as f:\n",
    "    data = json.load(f)\n",
    "\n",
    "causal_sentences = [d['negative_text'] for d in data]\n",
    "causal_encodings = tokenizer(causal_sentences, truncation=True, padding=True)\n",
    "\n",
    "causal_dataset = IMDbDataset(causal_encodings)\n",
    "causal_loader = DataLoader(causal_dataset, batch_size=BATCH_SIZE, shuffle=False)"
   ]
  },
  {
   "cell_type": "code",
   "execution_count": 3,
   "id": "rotary-excuse",
   "metadata": {},
   "outputs": [
    {
     "name": "stderr",
     "output_type": "stream",
     "text": [
      "100%|██████████| 417/417 [00:03<00:00, 126.53it/s]\n"
     ]
    }
   ],
   "source": [
    "causal_reps = []\n",
    "for batch in tqdm(causal_loader):\n",
    "    with torch.no_grad():\n",
    "        input_ids = batch['input_ids'].to(device)\n",
    "        attention_mask = batch['attention_mask'].to(device)\n",
    "        logits = model(input_ids, attention_mask, output_hidden_states=True)[2]\n",
    "        reps = torch.cat((logits[-1], logits[-2], logits[-3], logits[-4]), dim=-1)[:, 0, :]\n",
    "        #causal_reps.append(logits.detach().cpu())\n",
    "        causal_reps.append(reps.detach().cpu())\n",
    "\n",
    "causal_reps = torch.cat(causal_reps)\n",
    "causal_reps = causal_reps.detach().cpu().numpy()"
   ]
  },
  {
   "cell_type": "code",
   "execution_count": 4,
   "id": "5499b6f7",
   "metadata": {},
   "outputs": [],
   "source": [
    "positive_reps = []\n",
    "negative_reps = []"
   ]
  },
  {
   "cell_type": "code",
   "execution_count": 5,
   "id": "neural-victim",
   "metadata": {},
   "outputs": [],
   "source": [
    "######TMP: For NLI!!!! ##############\n",
    "\n",
    "positive_reps = []\n",
    "negative_reps = []\n",
    "neutral_reps = []"
   ]
  },
  {
   "cell_type": "code",
   "execution_count": null,
   "id": "9bcba877",
   "metadata": {},
   "outputs": [],
   "source": [
    "for rep, d in zip(causal_reps, data):\n",
    "    if d['label'] == [1.0, 0.0]:\n",
    "        negative_reps.append((d['id'], rep))\n",
    "    else:\n",
    "        positive_reps.append((d['id'], rep))\n"
   ]
  },
  {
   "cell_type": "code",
   "execution_count": 6,
   "id": "fossil-capacity",
   "metadata": {},
   "outputs": [],
   "source": [
    "######TMP: For NLI!!!! ##############\n",
    "\n",
    "for rep, d in zip(causal_reps, data):\n",
    "    if d['label'] == [1.0, 0.0, 0.0]:\n",
    "        negative_reps.append((d['id'], rep))\n",
    "    elif d['label'] == [0.0, 1.0, 0.0]:\n",
    "        positive_reps.append((d['id'], rep))\n",
    "    else:\n",
    "        neutral_reps.append((d['id'], rep))"
   ]
  },
  {
   "cell_type": "code",
   "execution_count": 9,
   "id": "biological-battery",
   "metadata": {},
   "outputs": [
    {
     "ename": "NameError",
     "evalue": "name 'sorted_pos_reps' is not defined",
     "output_type": "error",
     "traceback": [
      "\u001b[0;31m---------------------------------------------------------------------------\u001b[0m",
      "\u001b[0;31mNameError\u001b[0m                                 Traceback (most recent call last)",
      "\u001b[0;32m<ipython-input-9-e755153a9fd3>\u001b[0m in \u001b[0;36m<module>\u001b[0;34m\u001b[0m\n\u001b[0;32m----> 1\u001b[0;31m \u001b[0msorted_pos_reps\u001b[0m\u001b[0;34m[\u001b[0m\u001b[0;36m0\u001b[0m\u001b[0;34m]\u001b[0m\u001b[0;34m\u001b[0m\u001b[0;34m\u001b[0m\u001b[0m\n\u001b[0m",
      "\u001b[0;31mNameError\u001b[0m: name 'sorted_pos_reps' is not defined"
     ]
    }
   ],
   "source": [
    "sorted_pos_reps[0]"
   ]
  },
  {
   "cell_type": "code",
   "execution_count": 10,
   "id": "engaging-breast",
   "metadata": {},
   "outputs": [],
   "source": [
    "sorted_pos_reps = sorted(positive_reps, key=lambda x:cos_sim(x[1], causal_reps[8]), reverse=True)"
   ]
  },
  {
   "cell_type": "code",
   "execution_count": 11,
   "id": "random-stage",
   "metadata": {},
   "outputs": [
    {
     "data": {
      "text/plain": [
       "0.94088876"
      ]
     },
     "execution_count": 11,
     "metadata": {},
     "output_type": "execute_result"
    }
   ],
   "source": [
    "cos_sim(causal_reps[8], sorted_pos_reps[0][1])"
   ]
  },
  {
   "cell_type": "code",
   "execution_count": 12,
   "id": "3a77c856",
   "metadata": {},
   "outputs": [
    {
     "name": "stderr",
     "output_type": "stream",
     "text": [
      "776it [00:02, 307.02it/s]\n"
     ]
    },
    {
     "ename": "KeyboardInterrupt",
     "evalue": "",
     "output_type": "error",
     "traceback": [
      "\u001b[0;31m---------------------------------------------------------------------------\u001b[0m",
      "\u001b[0;31mKeyboardInterrupt\u001b[0m                         Traceback (most recent call last)",
      "\u001b[0;32m<ipython-input-12-6cd41ee352be>\u001b[0m in \u001b[0;36m<module>\u001b[0;34m\u001b[0m\n\u001b[1;32m     14\u001b[0m             \u001b[0;32mif\u001b[0m \u001b[0md\u001b[0m\u001b[0;34m[\u001b[0m\u001b[0;34m'id'\u001b[0m\u001b[0;34m]\u001b[0m \u001b[0;34m==\u001b[0m \u001b[0mnr\u001b[0m\u001b[0;34m[\u001b[0m\u001b[0;36m0\u001b[0m\u001b[0;34m]\u001b[0m\u001b[0;34m:\u001b[0m\u001b[0;34m\u001b[0m\u001b[0;34m\u001b[0m\u001b[0m\n\u001b[1;32m     15\u001b[0m                 \u001b[0;32mcontinue\u001b[0m\u001b[0;34m\u001b[0m\u001b[0;34m\u001b[0m\u001b[0m\n\u001b[0;32m---> 16\u001b[0;31m             \u001b[0;32mif\u001b[0m \u001b[0mcos_sim\u001b[0m\u001b[0;34m(\u001b[0m\u001b[0mrep\u001b[0m\u001b[0;34m,\u001b[0m \u001b[0mnr\u001b[0m\u001b[0;34m[\u001b[0m\u001b[0;36m1\u001b[0m\u001b[0;34m]\u001b[0m\u001b[0;34m)\u001b[0m \u001b[0;34m>\u001b[0m \u001b[0;36m0.95\u001b[0m\u001b[0;34m:\u001b[0m\u001b[0;34m\u001b[0m\u001b[0;34m\u001b[0m\u001b[0m\n\u001b[0m\u001b[1;32m     17\u001b[0m                 \u001b[0md\u001b[0m\u001b[0;34m[\u001b[0m\u001b[0;34m'triplet_sample_mask'\u001b[0m\u001b[0;34m]\u001b[0m \u001b[0;34m=\u001b[0m \u001b[0;32mTrue\u001b[0m\u001b[0;34m\u001b[0m\u001b[0;34m\u001b[0m\u001b[0m\n\u001b[1;32m     18\u001b[0m                 \u001b[0;32mbreak\u001b[0m\u001b[0;34m\u001b[0m\u001b[0;34m\u001b[0m\u001b[0m\n",
      "\u001b[0;32m<ipython-input-3-a5b2e50ddd45>\u001b[0m in \u001b[0;36mcos_sim\u001b[0;34m(A, B)\u001b[0m\n\u001b[1;32m     22\u001b[0m \u001b[0;32mimport\u001b[0m \u001b[0mnumpy\u001b[0m \u001b[0;32mas\u001b[0m \u001b[0mnp\u001b[0m\u001b[0;34m\u001b[0m\u001b[0;34m\u001b[0m\u001b[0m\n\u001b[1;32m     23\u001b[0m \u001b[0;32mdef\u001b[0m \u001b[0mcos_sim\u001b[0m\u001b[0;34m(\u001b[0m\u001b[0mA\u001b[0m\u001b[0;34m,\u001b[0m \u001b[0mB\u001b[0m\u001b[0;34m)\u001b[0m\u001b[0;34m:\u001b[0m\u001b[0;34m\u001b[0m\u001b[0;34m\u001b[0m\u001b[0m\n\u001b[0;32m---> 24\u001b[0;31m        \u001b[0;32mreturn\u001b[0m \u001b[0mdot\u001b[0m\u001b[0;34m(\u001b[0m\u001b[0mA\u001b[0m\u001b[0;34m,\u001b[0m \u001b[0mB\u001b[0m\u001b[0;34m)\u001b[0m\u001b[0;34m/\u001b[0m\u001b[0;34m(\u001b[0m\u001b[0mnorm\u001b[0m\u001b[0;34m(\u001b[0m\u001b[0mA\u001b[0m\u001b[0;34m)\u001b[0m\u001b[0;34m*\u001b[0m\u001b[0mnorm\u001b[0m\u001b[0;34m(\u001b[0m\u001b[0mB\u001b[0m\u001b[0;34m)\u001b[0m\u001b[0;34m)\u001b[0m\u001b[0;34m\u001b[0m\u001b[0;34m\u001b[0m\u001b[0m\n\u001b[0m\u001b[1;32m     25\u001b[0m \u001b[0;32mdef\u001b[0m \u001b[0ml2distance\u001b[0m\u001b[0;34m(\u001b[0m\u001b[0mA\u001b[0m\u001b[0;34m,\u001b[0m \u001b[0mB\u001b[0m\u001b[0;34m)\u001b[0m\u001b[0;34m:\u001b[0m\u001b[0;34m\u001b[0m\u001b[0;34m\u001b[0m\u001b[0m\n\u001b[1;32m     26\u001b[0m        \u001b[0;32mreturn\u001b[0m \u001b[0mnorm\u001b[0m\u001b[0;34m(\u001b[0m\u001b[0mA\u001b[0m\u001b[0;34m-\u001b[0m\u001b[0mB\u001b[0m\u001b[0;34m)\u001b[0m\u001b[0;34m\u001b[0m\u001b[0;34m\u001b[0m\u001b[0m\n",
      "\u001b[0;32m<__array_function__ internals>\u001b[0m in \u001b[0;36mnorm\u001b[0;34m(*args, **kwargs)\u001b[0m\n",
      "\u001b[0;32m/opt/conda/lib/python3.7/site-packages/numpy/linalg/linalg.py\u001b[0m in \u001b[0;36mnorm\u001b[0;34m(x, ord, axis, keepdims)\u001b[0m\n\u001b[1;32m   2476\u001b[0m             (ord == 2 and ndim == 1)):\n\u001b[1;32m   2477\u001b[0m \u001b[0;34m\u001b[0m\u001b[0m\n\u001b[0;32m-> 2478\u001b[0;31m             \u001b[0mx\u001b[0m \u001b[0;34m=\u001b[0m \u001b[0mx\u001b[0m\u001b[0;34m.\u001b[0m\u001b[0mravel\u001b[0m\u001b[0;34m(\u001b[0m\u001b[0morder\u001b[0m\u001b[0;34m=\u001b[0m\u001b[0;34m'K'\u001b[0m\u001b[0;34m)\u001b[0m\u001b[0;34m\u001b[0m\u001b[0;34m\u001b[0m\u001b[0m\n\u001b[0m\u001b[1;32m   2479\u001b[0m             \u001b[0;32mif\u001b[0m \u001b[0misComplexType\u001b[0m\u001b[0;34m(\u001b[0m\u001b[0mx\u001b[0m\u001b[0;34m.\u001b[0m\u001b[0mdtype\u001b[0m\u001b[0;34m.\u001b[0m\u001b[0mtype\u001b[0m\u001b[0;34m)\u001b[0m\u001b[0;34m:\u001b[0m\u001b[0;34m\u001b[0m\u001b[0;34m\u001b[0m\u001b[0m\n\u001b[1;32m   2480\u001b[0m                 \u001b[0msqnorm\u001b[0m \u001b[0;34m=\u001b[0m \u001b[0mdot\u001b[0m\u001b[0;34m(\u001b[0m\u001b[0mx\u001b[0m\u001b[0;34m.\u001b[0m\u001b[0mreal\u001b[0m\u001b[0;34m,\u001b[0m \u001b[0mx\u001b[0m\u001b[0;34m.\u001b[0m\u001b[0mreal\u001b[0m\u001b[0;34m)\u001b[0m \u001b[0;34m+\u001b[0m \u001b[0mdot\u001b[0m\u001b[0;34m(\u001b[0m\u001b[0mx\u001b[0m\u001b[0;34m.\u001b[0m\u001b[0mimag\u001b[0m\u001b[0;34m,\u001b[0m \u001b[0mx\u001b[0m\u001b[0;34m.\u001b[0m\u001b[0mimag\u001b[0m\u001b[0;34m)\u001b[0m\u001b[0;34m\u001b[0m\u001b[0;34m\u001b[0m\u001b[0m\n",
      "\u001b[0;31mKeyboardInterrupt\u001b[0m: "
     ]
    }
   ],
   "source": [
    "for rep, d in tqdm(zip(causal_reps, data)):\n",
    "    d['triplet_sample_mask'] = False\n",
    "\n",
    "    if d['label'] == [1.0, 0.0]:\n",
    "        for pr in positive_reps:\n",
    "            if d['id'] == pr[0]:\n",
    "                continue\n",
    "            if cos_sim(rep, pr[1]) > 0.95:\n",
    "                d['triplet_sample_mask'] = True\n",
    "                break\n",
    "\n",
    "    else:\n",
    "        for nr in negative_reps:\n",
    "            if d['id'] == nr[0]:\n",
    "                continue\n",
    "            if cos_sim(rep, nr[1]) > 0.95:\n",
    "                d['triplet_sample_mask'] = True\n",
    "                break\n",
    "    "
   ]
  },
  {
   "cell_type": "code",
   "execution_count": 7,
   "id": "adapted-mailing",
   "metadata": {},
   "outputs": [
    {
     "name": "stderr",
     "output_type": "stream",
     "text": [
      "1666it [00:09, 171.45it/s]\n"
     ]
    }
   ],
   "source": [
    "######TMP: For NLI!!!! ##############\n",
    "\n",
    "for rep, d in tqdm(zip(causal_reps, data)):\n",
    "    d['triplet_sample_mask'] = False\n",
    "\n",
    "    if d['label'] == [1.0, 0.0, 0.0]:\n",
    "        for pr in positive_reps + neutral_reps:\n",
    "            if d['id'] == pr[0]:\n",
    "                continue\n",
    "            if cos_sim(rep, pr[1]) > 0.95:\n",
    "                d['triplet_sample_mask'] = True\n",
    "                break\n",
    "\n",
    "    elif d['label'] == [0.0, 1.0, 0.0]:\n",
    "        for nr in negative_reps + neutral_reps:\n",
    "            if d['id'] == nr[0]:\n",
    "                continue\n",
    "            if cos_sim(rep, nr[1]) > 0.95:\n",
    "                d['triplet_sample_mask'] = True\n",
    "                break\n",
    "    else:\n",
    "        for nur in positive_reps + neutral_reps:\n",
    "            if d['id'] == nur[0]:\n",
    "                continue\n",
    "            if cos_sim(rep, nur[1]) > 0.95:\n",
    "                d['triplet_sample_mask'] = True\n",
    "                break\n",
    "        "
   ]
  },
  {
   "cell_type": "code",
   "execution_count": 8,
   "id": "883d74f4",
   "metadata": {
    "scrolled": true
   },
   "outputs": [
    {
     "name": "stdout",
     "output_type": "stream",
     "text": [
      "0.656062424969988\n"
     ]
    }
   ],
   "source": [
    "import shutil\n",
    "if not os.path.exists(OUTPUT_PATH):\n",
    "    os.makedirs(OUTPUT_PATH)\n",
    "with open(os.path.join(OUTPUT_PATH, \"train.json\"), 'w') as f:\n",
    "    json.dump(data, f)\n",
    "shutil.copy(os.path.join(DATASET_PATH, \"valid.json\"), os.path.join(OUTPUT_PATH, \"valid.json\"))\n",
    "shutil.copy(os.path.join(DATASET_PATH, \"test.json\"), os.path.join(OUTPUT_PATH, \"test.json\"))\n",
    "print(sum([d['triplet_sample_mask'] for d in data])/len(data))"
   ]
  },
  {
   "cell_type": "code",
   "execution_count": 9,
   "id": "played-ticket",
   "metadata": {},
   "outputs": [
    {
     "data": {
      "text/plain": [
       "1093"
      ]
     },
     "execution_count": 9,
     "metadata": {},
     "output_type": "execute_result"
    }
   ],
   "source": [
    "sum([d['triplet_sample_mask'] for d in data[:7983]])"
   ]
  },
  {
   "cell_type": "code",
   "execution_count": null,
   "id": "duplicate-flooring",
   "metadata": {},
   "outputs": [],
   "source": []
  }
 ],
 "metadata": {
  "kernelspec": {
   "display_name": "Python 3",
   "language": "python",
   "name": "python3"
  },
  "language_info": {
   "codemirror_mode": {
    "name": "ipython",
    "version": 3
   },
   "file_extension": ".py",
   "mimetype": "text/x-python",
   "name": "python",
   "nbconvert_exporter": "python",
   "pygments_lexer": "ipython3",
   "version": "3.7.4"
  }
 },
 "nbformat": 4,
 "nbformat_minor": 5
}
